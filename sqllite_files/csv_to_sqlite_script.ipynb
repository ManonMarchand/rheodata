{
 "cells": [
  {
   "cell_type": "markdown",
   "id": "f4376e82-cc77-40de-b51c-095ee96073c4",
   "metadata": {},
   "source": [
    "# Converting csv to proposed sqllite format"
   ]
  },
  {
   "cell_type": "code",
   "execution_count": 50,
   "id": "c8a62224-73c5-4482-b0c9-3919a84f88b7",
   "metadata": {},
   "outputs": [],
   "source": [
    "import sqlite3\n",
    "import os\n",
    "\n",
    "def data_dict_to_sqllite(data_dict,sqllite_file, add_step_index=False): \n",
    "    try:\n",
    "        os.remove(sqllite_file)\n",
    "    except:\n",
    "        pass\n",
    "    \n",
    "    cnx = sqlite3.connect(sqllite_file)\n",
    "\n",
    "    \n",
    "    for index, (key, dataframe) in enumerate(data_dict.items()):\n",
    "        if add_step_index:\n",
    "            key=str(index) +'_'+ key\n",
    "        \n",
    "        dataframe.to_sql(name=key, con=cnx)"
   ]
  },
  {
   "cell_type": "code",
   "execution_count": 51,
   "id": "e8b4e56d-81ca-4c5f-b0f8-41b659e0d46e",
   "metadata": {},
   "outputs": [
    {
     "data": {
      "text/plain": [
       "['dekker2018scaling_2.csv',\n",
       " 'dinkgreve2015universal_2.csv',\n",
       " 'ghosh2019linear_3.csv',\n",
       " 'mason1996yielding_5.csv',\n",
       " 'pamvouxoglou2021stress_6.csv',\n",
       " 'paredes2013rheology_1.csv',\n",
       " 'petekidis2004yielding_5.csv',\n",
       " 'seth2011micromecanical_S4a.csv',\n",
       " 'seth2011micromechanical_S4b.csv']"
      ]
     },
     "execution_count": 51,
     "metadata": {},
     "output_type": "execute_result"
    }
   ],
   "source": [
    "file_list=os.listdir('./../xl/')\n",
    "file_list"
   ]
  },
  {
   "cell_type": "code",
   "execution_count": 52,
   "id": "a1adea8a-0251-4576-b1b0-57f7e20a3279",
   "metadata": {},
   "outputs": [],
   "source": [
    "import pandas as pd\n",
    "def csv_to_data_dict(csv_file_name):\n",
    "    df=pd.read_csv(csv_file_name)\n",
    "    \n",
    "    data_dict={}\n",
    "    for label, next_col in zip(df.columns[::2],df.columns[1::2]):\n",
    "        rename_dict={label:'shear_rate', next_col:'shear_stress'}\n",
    "        dataset=df[[label,next_col]]\n",
    "        data_dict[label]=dataset.rename(columns={label:'shear_rate', next_col:'shear_stress'})\n",
    "    \n",
    "    return data_dict"
   ]
  },
  {
   "cell_type": "code",
   "execution_count": 53,
   "id": "015c3055-fe3c-4101-892a-e3531b799768",
   "metadata": {},
   "outputs": [],
   "source": [
    "\n",
    "data_dict=csv_to_data_dict('./../xl/'+file_list[0])"
   ]
  },
  {
   "cell_type": "code",
   "execution_count": 54,
   "id": "b0cf9633-492b-4ef0-bb87-10c79e64f116",
   "metadata": {},
   "outputs": [],
   "source": [
    "for filename in file_list:\n",
    "    data_dict_to_sqllite(csv_to_data_dict('./../xl/'+ filename),filename.split('.')[0] + '.db')"
   ]
  }
 ],
 "metadata": {
  "kernelspec": {
   "display_name": "Python 3 (ipykernel)",
   "language": "python",
   "name": "python3"
  },
  "language_info": {
   "codemirror_mode": {
    "name": "ipython",
    "version": 3
   },
   "file_extension": ".py",
   "mimetype": "text/x-python",
   "name": "python",
   "nbconvert_exporter": "python",
   "pygments_lexer": "ipython3",
   "version": "3.9.7"
  }
 },
 "nbformat": 4,
 "nbformat_minor": 5
}
