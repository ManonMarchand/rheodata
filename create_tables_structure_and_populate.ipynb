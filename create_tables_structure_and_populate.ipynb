{
 "cells": [
  {
   "cell_type": "code",
   "execution_count": 16,
   "metadata": {},
   "outputs": [],
   "source": [
    "import sqlite3 \n",
    "import yaml\n",
    "import glob\n",
    "import matplotlib.pyplot as plt\n",
    "from plot_function import *\n",
    "from sqlite_functions import *\n",
    "import numpy as np\n",
    "from pathlib import Path\n",
    "from pybtex.database.input import bibtex"
   ]
  },
  {
   "cell_type": "code",
   "execution_count": 58,
   "metadata": {},
   "outputs": [],
   "source": [
    "# Connect to database\n",
    "# This will also create the database if not in the folder\n",
    "connection = sqlite3.connect(Path('.') / 'litterature_data.db')\n",
    "# Create a cursor\n",
    "c = connection.cursor()"
   ]
  },
  {
   "cell_type": "markdown",
   "metadata": {},
   "source": [
    "# Create the tables\n",
    "\n",
    "note that sql commands are usually capitalised\n",
    "\n",
    "datatypes are : NULL INTEGER REAL TEXT BLOB\n",
    "\n",
    "BLOB is everything else, for example images."
   ]
  },
  {
   "cell_type": "markdown",
   "metadata": {},
   "source": [
    "## Papers"
   ]
  },
  {
   "cell_type": "code",
   "execution_count": 57,
   "metadata": {},
   "outputs": [],
   "source": [
    "#c.execute(\"DROP TABLE papers\")\n",
    "c.execute(\"\"\"CREATE TABLE IF NOT EXISTS papers (\n",
    "    paper_id text COMMENT 'from google scholar bibtext export',\n",
    "    title text,\n",
    "    authors text,\n",
    "    year integer,\n",
    "    journal text\n",
    "    )\"\"\")\n",
    "# Commit the changes in the database    \n",
    "connection.commit()"
   ]
  },
  {
   "cell_type": "markdown",
   "metadata": {},
   "source": [
    "## Samples "
   ]
  },
  {
   "cell_type": "code",
   "execution_count": 55,
   "metadata": {},
   "outputs": [],
   "source": [
    "# TODO : find if parsers exists for yml to sql"
   ]
  },
  {
   "cell_type": "markdown",
   "metadata": {},
   "source": [
    "## Experiments"
   ]
  },
  {
   "cell_type": "code",
   "execution_count": 56,
   "metadata": {},
   "outputs": [],
   "source": [
    "# TODO : use Marco's code"
   ]
  },
  {
   "cell_type": "markdown",
   "metadata": {},
   "source": [
    "## Experiments type"
   ]
  },
  {
   "cell_type": "markdown",
   "metadata": {},
   "source": [
    "# Populate tables "
   ]
  },
  {
   "cell_type": "markdown",
   "metadata": {},
   "source": [
    "## Populate papers from bib file\n",
    "\n",
    "- open the bibtex file papers.bib\n",
    "- list all existing entries\n",
    "- if one of them is not in the papers table already, adds it."
   ]
  },
  {
   "cell_type": "code",
   "execution_count": 46,
   "metadata": {},
   "outputs": [],
   "source": [
    "# open the bibtex file\n",
    "bibdata = bibtex.Parser().parse_file(Path('.') / 'yml' / 'papers.bib')"
   ]
  },
  {
   "cell_type": "code",
   "execution_count": 59,
   "metadata": {},
   "outputs": [],
   "source": [
    "# get the papers ids that are already in the papers table\n",
    "paper_ids = query_column('papers', 'paper_id')"
   ]
  },
  {
   "cell_type": "code",
   "execution_count": 51,
   "metadata": {},
   "outputs": [],
   "source": [
    "list_paper_to_database = []\n",
    "# loop through the references\n",
    "for bib_id in bibdata.entries:\n",
    "    b = bibdata.entries[bib_id].fields\n",
    "    if bib_id not in paper_ids:\n",
    "        try:\n",
    "            title = b[\"title\"]\n",
    "            journal = b[\"journal\"]\n",
    "            year = b[\"year\"]\n",
    "            #deal with multiple authors\n",
    "            authors = []\n",
    "            for author in bibdata.entries[bib_id].persons[\"author\"]:\n",
    "                authors += [' '.join(author.first_names + author.last_names)]\n",
    "            authors = ', '.join(authors)\n",
    "            list_paper_to_database += [(bib_id, title, authors, year, journal)]\n",
    "        except KeyError:\n",
    "            continue"
   ]
  },
  {
   "cell_type": "code",
   "execution_count": 52,
   "metadata": {},
   "outputs": [],
   "source": [
    "# Put that list into the database\n",
    "c.executemany(\"INSERT INTO papers VALUES (?,?,?,?,?)\", (list_paper_to_database))\n",
    "# Then it needs to be commited to the database\n",
    "connection.commit()"
   ]
  },
  {
   "cell_type": "code",
   "execution_count": null,
   "metadata": {},
   "outputs": [],
   "source": []
  }
 ],
 "metadata": {
  "interpreter": {
   "hash": "63fd5069d213b44bf678585dea6b12cceca9941eaf7f819626cde1f2670de90d"
  },
  "kernelspec": {
   "display_name": "Python 3 (ipykernel)",
   "language": "python",
   "name": "python3"
  },
  "language_info": {
   "codemirror_mode": {
    "name": "ipython",
    "version": 3
   },
   "file_extension": ".py",
   "mimetype": "text/x-python",
   "name": "python",
   "nbconvert_exporter": "python",
   "pygments_lexer": "ipython3",
   "version": "3.9.7"
  }
 },
 "nbformat": 4,
 "nbformat_minor": 4
}
