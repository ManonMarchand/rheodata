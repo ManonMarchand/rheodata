{
 "cells": [
  {
   "cell_type": "code",
   "execution_count": 6,
   "metadata": {},
   "outputs": [],
   "source": [
    "import sqlite3 \n",
    "import yaml\n",
    "import glob\n",
    "import matplotlib.pyplot as plt"
   ]
  },
  {
   "cell_type": "code",
   "execution_count": 4,
   "metadata": {},
   "outputs": [],
   "source": [
    "# Connect to database\n",
    "# This will also create the database if not in the folder\n",
    "connection = sqlite3.connect('litterature_data.db')\n",
    "# Create a cursor\n",
    "c = connection.cursor()"
   ]
  },
  {
   "cell_type": "markdown",
   "metadata": {},
   "source": [
    "# Create the tables\n",
    "\n",
    "note that sql commands need to be capitalised\n",
    "\n",
    "datatypes are : NULL INTEGER REAL TEXT BLOB\n",
    "\n",
    "BLOB is everything else, for example images"
   ]
  },
  {
   "cell_type": "markdown",
   "metadata": {},
   "source": [
    "# Papers table \n",
    "\n",
    "One table for all papers"
   ]
  },
  {
   "cell_type": "code",
   "execution_count": 5,
   "metadata": {},
   "outputs": [],
   "source": [
    "\n",
    "#c.execute(\"\"\"CREATE TABLE papers (\n",
    "#    title text,\n",
    "#    url text,\n",
    "#    paper_id text,\n",
    "#    year integer,\n",
    "#    author text\n",
    "#    )\"\"\")"
   ]
  },
  {
   "cell_type": "markdown",
   "metadata": {},
   "source": [
    "## Populate the papers table "
   ]
  },
  {
   "cell_type": "code",
   "execution_count": 8,
   "metadata": {},
   "outputs": [],
   "source": [
    "# Executing this adds the lines even if they are already there\n",
    "# TODO : write a version the checks if the paper id is already in the papers table\n",
    "\n",
    "#papers_info = yaml.safe_load(open(glob.glob('papers*.yml')[0]))\n",
    "\n",
    "#list_paper_database = []\n",
    "\n",
    "#for key in papers_info.keys():\n",
    "#    list_paper_database += [(papers_info[key]['title'], papers_info[key]['url'], key)]"
   ]
  },
  {
   "cell_type": "markdown",
   "metadata": {},
   "source": [
    "# Figures table\n",
    "\n",
    "One table for all figures form the papers"
   ]
  },
  {
   "cell_type": "code",
   "execution_count": 7,
   "metadata": {},
   "outputs": [],
   "source": [
    "#c.execute(\"\"\"CREATE TABLE figures (\n",
    "#    experiment_type text,\n",
    "#    from_paper text,\n",
    "#    fig_number text,\n",
    "#    unit_x text,\n",
    "#    unit_y text\n",
    "#    )\"\"\")"
   ]
  },
  {
   "cell_type": "markdown",
   "metadata": {},
   "source": [
    "# Experiments tables\n",
    "\n",
    "TODO : chose if I do one table per experiment or one table per experiment type\n",
    "TODO : chose the columns of each of those tables"
   ]
  },
  {
   "cell_type": "code",
   "execution_count": 4,
   "metadata": {},
   "outputs": [],
   "source": []
  },
  {
   "cell_type": "code",
   "execution_count": 9,
   "metadata": {},
   "outputs": [
    {
     "data": {
      "text/plain": [
       "[<matplotlib.lines.Line2D at 0x255e6907a30>]"
      ]
     },
     "execution_count": 9,
     "metadata": {},
     "output_type": "execute_result"
    },
    {
     "data": {
      "image/png": "[encoded data removed]",
      "text/plain": [
       "<Figure size 432x288 with 1 Axes>"
      ]
     },
     "metadata": {
      "needs_background": "light"
     },
     "output_type": "display_data"
    }
   ],
   "source": [
    "plt.plot([1, 2, 3, 4])"
   ]
  },
  {
   "cell_type": "code",
   "execution_count": null,
   "metadata": {},
   "outputs": [],
   "source": []
  }
 ],
 "metadata": {
  "interpreter": {
   "hash": "63fd5069d213b44bf678585dea6b12cceca9941eaf7f819626cde1f2670de90d"
  },
  "kernelspec": {
   "display_name": "Python 3.9.7 64-bit",
   "name": "python3"
  },
  "language_info": {
   "codemirror_mode": {
    "name": "ipython",
    "version": 3
   },
   "file_extension": ".py",
   "mimetype": "text/x-python",
   "name": "python",
   "nbconvert_exporter": "python",
   "pygments_lexer": "ipython3",
   "version": "3.9.7"
  },
  "orig_nbformat": 4
 },
 "nbformat": 4,
 "nbformat_minor": 2
}
