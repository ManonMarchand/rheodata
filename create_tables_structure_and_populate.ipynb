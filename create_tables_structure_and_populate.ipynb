{
 "cells": [
  {
   "cell_type": "code",
   "execution_count": 13,
   "metadata": {},
   "outputs": [],
   "source": [
    "import sqlite3 \n",
    "import yaml\n",
    "import glob\n",
    "import matplotlib.pyplot as plt\n",
    "from plot_function import *\n",
    "from sqlite_functions import *\n",
    "import numpy as np\n",
    "from pathlib import Path"
   ]
  },
  {
   "cell_type": "code",
   "execution_count": 14,
   "metadata": {},
   "outputs": [],
   "source": [
    "# Connect to database\n",
    "# This will also create the database if not in the folder\n",
    "connection = sqlite3.connect('litterature_data.db')\n",
    "# Create a cursor\n",
    "c = connection.cursor()"
   ]
  },
  {
   "cell_type": "code",
   "execution_count": null,
   "metadata": {},
   "outputs": [],
   "source": []
  },
  {
   "cell_type": "markdown",
   "metadata": {},
   "source": [
    "# Create the tables\n",
    "\n",
    "note that sql commands need to be capitalised\n",
    "\n",
    "datatypes are : NULL INTEGER REAL TEXT BLOB\n",
    "\n",
    "BLOB is everything else, for example images (wink for Marco if you read this, we don't need altair I think)"
   ]
  },
  {
   "cell_type": "markdown",
   "metadata": {},
   "source": [
    "# Papers table \n",
    "\n",
    "One table for all papers"
   ]
  },
  {
   "cell_type": "code",
   "execution_count": 3,
   "metadata": {},
   "outputs": [],
   "source": [
    "\n",
    "c.execute(\"\"\"CREATE TABLE IF NOT EXISTS papers (\n",
    "    title text,\n",
    "    url text,\n",
    "    paper_id text COMMENT 'from google scholar bibtext export',\n",
    "    year integer,\n",
    "    author text\n",
    "    )\"\"\")\n",
    "# Commit the changes in the database    \n",
    "connection.commit()\n"
   ]
  },
  {
   "cell_type": "markdown",
   "metadata": {},
   "source": [
    "## Populate the papers table \n",
    " - opens the yaml file 'papers.yml' that contains the metadata on the papers\n",
    " - checks if the "
   ]
  },
  {
   "cell_type": "code",
   "execution_count": 19,
   "metadata": {},
   "outputs": [],
   "source": [
    "\n",
    "paper_ids = query_column(\"papers\", \"paper_id\")\n",
    "\n",
    "papers_info = yaml.safe_load(open(Path('./yml') / 'papers.yml', 'r'))\n",
    "\n",
    "\n",
    "list_paper_database = []\n",
    "\n",
    "for key in papers_info.keys():\n",
    "    if key not in paper_ids:\n",
    "        print('new entry ', key)\n",
    "        list_paper_database += [(papers_info[key]['title'], papers_info[key]['url'], key)]"
   ]
  },
  {
   "cell_type": "markdown",
   "metadata": {},
   "source": [
    "# Figures table\n",
    "\n",
    "One table for all figures form the papers"
   ]
  },
  {
   "cell_type": "code",
   "execution_count": 5,
   "metadata": {},
   "outputs": [],
   "source": [
    "#c.execute(\"\"\"CREATE TABLE figures (\n",
    "#    experiment_type text,\n",
    "#    from_paper text,\n",
    "#    fig_number text,\n",
    "#    unit_x text,\n",
    "#    unit_y text\n",
    "#    )\"\"\")"
   ]
  },
  {
   "cell_type": "markdown",
   "metadata": {},
   "source": [
    "# Experiments tables\n",
    "\n",
    "TODO : chose if I do one table per experiment or one table per experiment type\n",
    "\n",
    "TODO : chose the columns of each of those tables"
   ]
  },
  {
   "cell_type": "code",
   "execution_count": null,
   "metadata": {},
   "outputs": [],
   "source": []
  },
  {
   "cell_type": "code",
   "execution_count": 16,
   "metadata": {},
   "outputs": [
    {
     "data": {
      "text/plain": [
       "[<matplotlib.lines.Line2D at 0x1e2853f88e0>]"
      ]
     },
     "execution_count": 16,
     "metadata": {},
     "output_type": "execute_result"
    },
    {
     "data": {
      "image/png": "[encoded data removed]",
      "text/plain": [
       "<Figure size 360x244.8 with 1 Axes>"
      ]
     },
     "metadata": {
      "needs_background": "light"
     },
     "output_type": "display_data"
    }
   ],
   "source": [
    "# testing matplotlib on my machine\n",
    "\n",
    "fig, ax, color, marker = create_plot()\n",
    "\n",
    "plt.loglog([1, 2, 3, 4])"
   ]
  },
  {
   "cell_type": "code",
   "execution_count": null,
   "metadata": {},
   "outputs": [],
   "source": []
  }
 ],
 "metadata": {
  "interpreter": {
   "hash": "63fd5069d213b44bf678585dea6b12cceca9941eaf7f819626cde1f2670de90d"
  },
  "kernelspec": {
   "display_name": "Python 3.9.7 64-bit",
   "name": "python3"
  },
  "language_info": {
   "codemirror_mode": {
    "name": "ipython",
    "version": 3
   },
   "file_extension": ".py",
   "mimetype": "text/x-python",
   "name": "python",
   "nbconvert_exporter": "python",
   "pygments_lexer": "ipython3",
   "version": "3.9.7"
  },
  "orig_nbformat": 4
 },
 "nbformat": 4,
 "nbformat_minor": 2
}
