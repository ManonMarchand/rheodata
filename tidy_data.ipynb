{
 "cells": [
  {
   "cell_type": "code",
   "execution_count": 6,
   "metadata": {},
   "outputs": [],
   "source": [
    "import sqlite3 \n",
    "import yaml\n",
    "import glob"
   ]
  },
  {
   "cell_type": "code",
   "execution_count": 3,
   "metadata": {},
   "outputs": [],
   "source": [
    "papers_info = yaml.safe_load(open(glob.glob('flow_curve*.yml')[0]))"
   ]
  },
  {
   "cell_type": "code",
   "execution_count": 4,
   "metadata": {},
   "outputs": [],
   "source": [
    "list_paper_database = []\n",
    "\n",
    "for key in papers_info.keys():\n",
    "    list_paper_database += [(papers_info[key]['title'], papers_info[key]['url'], key)]"
   ]
  },
  {
   "cell_type": "code",
   "execution_count": 5,
   "metadata": {},
   "outputs": [
    {
     "data": {
      "text/plain": [
       "[('Scaling of flow curves Comparison between experiments and simulations',\n",
       "  'https://www.sciencedirect.com/science/article/pii/S0377025718301198',\n",
       "  'dekker2018scaling'),\n",
       " ('Universal rescaling of flow curves for yield-stress fluids close to jamming',\n",
       "  'https://journals.aps.org/pre/abstract/10.1103/PhysRevE.92.012305',\n",
       "  'dinkgreve2015universal'),\n",
       " ('Linear and nonlinear rheology and structural relaxation in dense glassy and jammed soft repulsive pNIPAM microgel suspensions',\n",
       "  'https://pubs.rsc.org/en/content/articlehtml/2018/sm/c8sm02014k',\n",
       "  'ghosh2019linear'),\n",
       " ('Yielding and Flow of Monodisperse Emulsions',\n",
       "  'https://www.sciencedirect.com/science/article/pii/S0021979796902350',\n",
       "  'mason1996yielding'),\n",
       " ('Stress versus strain controlled shear Yielding and relaxation of concentrated colloidal suspensions',\n",
       "  'https://doi.org/10.1122/8.0000212',\n",
       "  'pamvouxoglou2021stress'),\n",
       " ('Rheology across the Zero-Temperature Jamming Transition',\n",
       "  'https://journals.aps.org/prl/pdf/10.1103/PhysRevLett.111.015701',\n",
       "  'paredes2013rheology'),\n",
       " ('Yielding and flow of sheared colloidal glasses',\n",
       "  'https://iopscience.iop.org/article/10.1088/0953-8984/16/38/013',\n",
       "  'petekidis2004yielding'),\n",
       " ('A micromechanical model to predict the flow of soft particle glasses',\n",
       "  'https://www.nature.com/articles/nmat3119',\n",
       "  'seth2011micromechanical')]"
      ]
     },
     "execution_count": 5,
     "metadata": {},
     "output_type": "execute_result"
    }
   ],
   "source": [
    "plt.plot([1, 2, 3, 4])"
   ]
  },
  {
   "cell_type": "code",
   "execution_count": null,
   "metadata": {},
   "outputs": [],
   "source": []
  }
 ],
 "metadata": {
  "interpreter": {
   "hash": "63fd5069d213b44bf678585dea6b12cceca9941eaf7f819626cde1f2670de90d"
  },
  "kernelspec": {
   "display_name": "Python 3.9.7 64-bit",
   "name": "python3"
  },
  "language_info": {
   "codemirror_mode": {
    "name": "ipython",
    "version": 3
   },
   "file_extension": ".py",
   "mimetype": "text/x-python",
   "name": "python",
   "nbconvert_exporter": "python",
   "pygments_lexer": "ipython3",
   "version": "3.9.7"
  },
  "orig_nbformat": 4
 },
 "nbformat": 4,
 "nbformat_minor": 2
}
