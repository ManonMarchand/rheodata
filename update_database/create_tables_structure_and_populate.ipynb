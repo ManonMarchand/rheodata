{
 "cells": [
  {
   "cell_type": "code",
   "execution_count": 1,
   "metadata": {},
   "outputs": [],
   "source": [
    "import sqlite3 \n",
    "import yaml\n",
    "import glob\n",
    "import matplotlib.pyplot as plt\n",
    "from plot_function import *\n",
    "from sqlite_functions import *\n",
    "import numpy as np\n",
    "from pathlib import Path\n",
    "from pybtex.database.input import bibtex"
   ]
  },
  {
   "cell_type": "code",
   "execution_count": 2,
   "metadata": {},
   "outputs": [],
   "source": [
    "# Connect to database\n",
    "# This will also create the database if not in the folder\n",
    "connection = sqlite3.connect(Path('.') / 'litterature_data.db')\n",
    "# Create a cursor\n",
    "c = connection.cursor()"
   ]
  },
  {
   "cell_type": "code",
   "execution_count": 16,
   "metadata": {},
   "outputs": [
    {
     "name": "stdout",
     "output_type": "stream",
     "text": [
      "[('papers',), ('samples',)]\n"
     ]
    }
   ],
   "source": [
    "# Show existing tables\n",
    "c.execute(\"SELECT name FROM sqlite_master WHERE type='table';\")\n",
    "print(c.fetchall())"
   ]
  },
  {
   "cell_type": "markdown",
   "metadata": {},
   "source": [
    "# Create the tables\n",
    "\n",
    "note that sql commands are usually capitalised\n",
    "\n",
    "datatypes are : NULL INTEGER REAL TEXT BLOB\n",
    "\n",
    "BLOB is everything else, for example images."
   ]
  },
  {
   "cell_type": "markdown",
   "metadata": {},
   "source": [
    "## Papers"
   ]
  },
  {
   "cell_type": "code",
   "execution_count": 4,
   "metadata": {},
   "outputs": [],
   "source": [
    "#c.execute(\"DROP TABLE papers\")\n",
    "c.execute(\"\"\"CREATE TABLE IF NOT EXISTS papers (\n",
    "    paper_id text PRIMARY KEY,\n",
    "    title text NOT NULL,\n",
    "    authors text NOT NULL,\n",
    "    year integer NOT NULL,\n",
    "    journal text\n",
    "    )\"\"\")\n",
    "# Commit the changes in the database    \n",
    "connection.commit()"
   ]
  },
  {
   "cell_type": "markdown",
   "metadata": {},
   "source": [
    "## Samples "
   ]
  },
  {
   "cell_type": "code",
   "execution_count": 15,
   "metadata": {
    "tags": []
   },
   "outputs": [],
   "source": [
    "# TODO : find if parsers exists for yml to sql\n",
    "#c.execute(\"DROP TABLE samples\")\n",
    "# here the primary key will be an index with a int number incremented for each sample\n",
    "c.execute(\"\"\"CREATE TABLE IF NOT EXISTS samples (\n",
    "    sample_id text PRIMARY KEY,\n",
    "    type text,\n",
    "    continuous_phase text,\n",
    "    surfactant text,\n",
    "    interface_type text, \n",
    "    solvent_viscosity integer,\n",
    "    dispersed_phase text, \n",
    "    mean_radius float, \n",
    "    polydispersity float, \n",
    "    temperature float, \n",
    "    volume_fraction float,\n",
    "    paper_id text, \n",
    "    FOREIGN KEY (paper_id) REFERENCES papers(paper_id)\n",
    "    )\"\"\")\n",
    "# Commit the changes in the database    \n",
    "connection.commit()"
   ]
  },
  {
   "cell_type": "code",
   "execution_count": 14,
   "metadata": {},
   "outputs": [
    {
     "data": {
      "text/plain": [
       "['../raw_data/papers\\\\dekker2018scaling\\\\samples_dekker2018scaling.yml',\n",
       " '../raw_data/papers\\\\dinkgreve2015universal\\\\samples_dinkgreve2015universal.yml',\n",
       " '../raw_data/papers\\\\ghosh2019linear\\\\samples_ghosh2019linear.yml',\n",
       " '../raw_data/papers\\\\mason1996yielding\\\\samples_mason1996yielding.yml',\n",
       " '../raw_data/papers\\\\pamvouxoglou2021stress\\\\samples_pamvouxoglou2021stress.yml',\n",
       " '../raw_data/papers\\\\paredes2013rheology\\\\samples_paredes2013rheology.yml',\n",
       " '../raw_data/papers\\\\petekidis2004yielding\\\\samples_petekidis2004yielding.yml',\n",
       " '../raw_data/papers\\\\seth2011micromechanical\\\\samples_seth2011micromechanical.yml']"
      ]
     },
     "execution_count": 14,
     "metadata": {},
     "output_type": "execute_result"
    }
   ],
   "source": [
    "list_samples = glob.glob('../raw_data/papers/**/samples_*.yml', recursive=True)\n",
    "list_samples"
   ]
  },
  {
   "cell_type": "code",
   "execution_count": 29,
   "metadata": {},
   "outputs": [
    {
     "data": {
      "text/plain": [
       "{'constant_parameters': {'type': 'emulsion',\n",
       "  'continuous_phase': 'water',\n",
       "  'surfactant': 'SDS',\n",
       "  'solvent_viscosity': 0.00089,\n",
       "  'dispersed_phase': 'castor oil',\n",
       "  'mean_radius': 3.4e-06,\n",
       "  'polydispersity': 20,\n",
       "  'temperature': 25,\n",
       "  'in_paper': 'dekker2018scaling',\n",
       "  'in_figure': 'dekker2018scaling_fig2a'}}"
      ]
     },
     "execution_count": 29,
     "metadata": {},
     "output_type": "execute_result"
    }
   ],
   "source": [
    "with open(list_samples[0]) as f:\n",
    "        # use safe_load instead of load\n",
    "        samples = list(yaml.load_all(f, Loader=yaml.FullLoader))"
   ]
  },
  {
   "cell_type": "code",
   "execution_count": 31,
   "metadata": {},
   "outputs": [],
   "source": [
    "paper = samples[0]['constant_parameters']['in_paper']"
   ]
  },
  {
   "cell_type": "markdown",
   "metadata": {},
   "source": [
    "## Experiments"
   ]
  },
  {
   "cell_type": "code",
   "execution_count": 56,
   "metadata": {},
   "outputs": [],
   "source": [
    "# TODO : use Marco's code"
   ]
  },
  {
   "cell_type": "markdown",
   "metadata": {},
   "source": [
    "## Experiments type"
   ]
  },
  {
   "cell_type": "markdown",
   "metadata": {},
   "source": [
    "# Populate tables "
   ]
  },
  {
   "cell_type": "markdown",
   "metadata": {},
   "source": [
    "## Populate papers from bib file\n",
    "\n",
    "- open the bibtex file papers.bib\n",
    "- list all existing entries\n",
    "- if one of them is not in the papers table already, adds it."
   ]
  },
  {
   "cell_type": "code",
   "execution_count": 5,
   "metadata": {},
   "outputs": [],
   "source": [
    "# open the bibtex file\n",
    "bibdata = bibtex.Parser().parse_file(Path('..') / 'raw_data' / 'papers.bib')"
   ]
  },
  {
   "cell_type": "code",
   "execution_count": 6,
   "metadata": {},
   "outputs": [],
   "source": [
    "# get the papers ids that are already in the papers table\n",
    "paper_ids = query_column('papers', 'paper_id')"
   ]
  },
  {
   "cell_type": "code",
   "execution_count": 7,
   "metadata": {},
   "outputs": [],
   "source": [
    "list_paper_to_database = []\n",
    "# loop through the references\n",
    "for bib_id in bibdata.entries:\n",
    "    b = bibdata.entries[bib_id].fields\n",
    "    if bib_id not in paper_ids:\n",
    "        try:\n",
    "            title = b[\"title\"]\n",
    "            journal = b[\"journal\"]\n",
    "            year = b[\"year\"]\n",
    "            #deal with multiple authors\n",
    "            authors = []\n",
    "            for author in bibdata.entries[bib_id].persons[\"author\"]:\n",
    "                authors += [' '.join(author.first_names + author.last_names)]\n",
    "            authors = ', '.join(authors)\n",
    "            list_paper_to_database += [(bib_id, title, authors, year, journal)]\n",
    "        except KeyError:\n",
    "            continue"
   ]
  },
  {
   "cell_type": "code",
   "execution_count": 8,
   "metadata": {},
   "outputs": [],
   "source": [
    "# Put that list into the database\n",
    "c.executemany(\"INSERT INTO papers VALUES (?,?,?,?,?)\", (list_paper_to_database))\n",
    "# Then it needs to be commited to the database\n",
    "connection.commit()"
   ]
  },
  {
   "cell_type": "code",
   "execution_count": null,
   "metadata": {},
   "outputs": [],
   "source": []
  }
 ],
 "metadata": {
  "interpreter": {
   "hash": "63fd5069d213b44bf678585dea6b12cceca9941eaf7f819626cde1f2670de90d"
  },
  "kernelspec": {
   "display_name": "Python 3 (ipykernel)",
   "language": "python",
   "name": "python3"
  },
  "language_info": {
   "codemirror_mode": {
    "name": "ipython",
    "version": 3
   },
   "file_extension": ".py",
   "mimetype": "text/x-python",
   "name": "python",
   "nbconvert_exporter": "python",
   "pygments_lexer": "ipython3",
   "version": "3.9.7"
  }
 },
 "nbformat": 4,
 "nbformat_minor": 4
}
